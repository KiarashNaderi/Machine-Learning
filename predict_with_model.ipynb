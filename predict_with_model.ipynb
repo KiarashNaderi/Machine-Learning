{
 "cells": [
  {
   "cell_type": "markdown",
   "id": "69fe3c4c-d7d2-4a48-ae21-774313e49f01",
   "metadata": {},
   "source": [
    "#  Predict Airbnb Price Using the Trained Model\n",
    "This notebook demonstrates how to use the trained model (`final_model.pkl`) to make predictions on new data using a custom input function.\n"
   ]
  },
  {
   "cell_type": "code",
   "execution_count": 11,
   "id": "24681e05-9ab8-40b3-b970-162bb1bba54a",
   "metadata": {},
   "outputs": [],
   "source": [
    "#  Load libraries\n",
    "import pandas as pd\n",
    "import numpy as np\n",
    "import joblib\n",
    "\n",
    "#  Load the trained model\n",
    "model = joblib.load(\"final_model.pkl\")  # or \"final_model.pkl\" if in same folder\n",
    "\n"
   ]
  },
  {
   "cell_type": "code",
   "execution_count": 13,
   "id": "825ad6ec-6410-4f78-919c-d2b577bc33d4",
   "metadata": {},
   "outputs": [],
   "source": [
    "# ⚙️ Preprocessing Function for Raw Input\n",
    "\n",
    "final_model_columns = [\n",
    "    'latitude', 'longitude', 'calculated_host_listings_count', 'availability_365',\n",
    "    'log_minimum_nights', 'log_number_of_reviews', 'log_reviews_per_month',\n",
    "    'neighbourhood_group_Brooklyn', 'neighbourhood_group_Manhattan',\n",
    "    'neighbourhood_group_Queens', 'neighbourhood_group_Staten Island',\n",
    "    'room_type_Private room', 'room_type_Shared room',\n",
    "    'neighbourhood_grouped_Bushwick', 'neighbourhood_grouped_Crown Heights',\n",
    "    'neighbourhood_grouped_East Village', 'neighbourhood_grouped_Harlem',\n",
    "    \"neighbourhood_grouped_Hell's Kitchen\", 'neighbourhood_grouped_Midtown',\n",
    "    'neighbourhood_grouped_Other', 'neighbourhood_grouped_Upper East Side',\n",
    "    'neighbourhood_grouped_Upper West Side', 'neighbourhood_grouped_Williamsburg'\n",
    "]\n",
    "\n",
    "def preprocess_input(raw_input):\n",
    "    \"\"\"\n",
    "    Converts raw dictionary input into the format required by the model.\n",
    "    \"\"\"\n",
    "    processed = {\n",
    "        'latitude': raw_input['latitude'],\n",
    "        'longitude': raw_input['longitude'],\n",
    "        'calculated_host_listings_count': raw_input['calculated_host_listings_count'],\n",
    "        'availability_365': raw_input['availability_365'],\n",
    "        'log_minimum_nights': np.log(raw_input['minimum_nights']),\n",
    "        'log_number_of_reviews': np.log(raw_input['number_of_reviews'] + 1),\n",
    "        'log_reviews_per_month': np.log(raw_input['reviews_per_month'] + 1e-5),\n",
    "    }\n",
    "\n",
    "    for group in ['Brooklyn', 'Manhattan', 'Queens', 'Staten Island']:\n",
    "        col = f'neighbourhood_group_{group}'\n",
    "        processed[col] = 1 if raw_input['neighbourhood_group'] == group else 0\n",
    "\n",
    "    for rt in ['Private room', 'Shared room']:\n",
    "        col = f'room_type_{rt}'\n",
    "        processed[col] = 1 if raw_input['room_type'] == rt else 0\n",
    "\n",
    "    top_neighs = ['Bushwick', 'Crown Heights', 'East Village', 'Harlem',\n",
    "                  \"Hell's Kitchen\", 'Midtown', 'Upper East Side',\n",
    "                  'Upper West Side', 'Williamsburg']\n",
    "    \n",
    "    matched = False\n",
    "    for neigh in top_neighs:\n",
    "        col = f'neighbourhood_grouped_{neigh}'\n",
    "        processed[col] = 1 if raw_input['neighbourhood'] == neigh else 0\n",
    "        if raw_input['neighbourhood'] == neigh:\n",
    "            matched = True\n",
    "\n",
    "    processed['neighbourhood_grouped_Other'] = 1 if not matched else 0\n",
    "\n",
    "    df_input = pd.DataFrame([processed])\n",
    "    df_input = df_input.reindex(columns=final_model_columns, fill_value=0)\n",
    "\n",
    "    return df_input\n"
   ]
  },
  {
   "cell_type": "code",
   "execution_count": 17,
   "id": "6260464c-1b5d-4a6b-ba44-4da72900aab8",
   "metadata": {},
   "outputs": [],
   "source": [
    "# 🤖 Define Prediction Function\n",
    "\n",
    "def predict_price_from_input(model, raw_input):\n",
    "    \"\"\"\n",
    "    Takes raw input and returns predicted Airbnb price.\n",
    "    \"\"\"\n",
    "    df_input = preprocess_input(raw_input)\n",
    "    log_price = model.predict(df_input)[0]\n",
    "    price = np.exp(log_price)\n",
    "    return round(price, 2)\n"
   ]
  },
  {
   "cell_type": "code",
   "execution_count": 19,
   "id": "ace62d01-8773-49c5-b268-1292ba99e7bb",
   "metadata": {},
   "outputs": [
    {
     "name": "stdout",
     "output_type": "stream",
     "text": [
      "Predicted Airbnb Price: $81.31\n"
     ]
    }
   ],
   "source": [
    "# 📊 Sample Input and Prediction\n",
    "\n",
    "sample_input = {\n",
    "    'latitude': 40.7128,\n",
    "    'longitude': -73.9352,\n",
    "    'calculated_host_listings_count': 2,\n",
    "    'availability_365': 120,\n",
    "    'minimum_nights': 2,\n",
    "    'number_of_reviews': 10,\n",
    "    'reviews_per_month': 1.2,\n",
    "    'neighbourhood_group': 'Brooklyn',\n",
    "    'room_type': 'Private room',\n",
    "    'neighbourhood': 'Other'\n",
    "}\n",
    "\n",
    "predicted_price = predict_price_from_input(model, sample_input)\n",
    "print(f\"Predicted Airbnb Price: ${predicted_price}\")\n"
   ]
  },
  {
   "cell_type": "code",
   "execution_count": null,
   "id": "465fbca5-16c5-49e9-bee8-f1122acf05bf",
   "metadata": {},
   "outputs": [],
   "source": []
  }
 ],
 "metadata": {
  "kernelspec": {
   "display_name": "Python [conda env:base] *",
   "language": "python",
   "name": "conda-base-py"
  },
  "language_info": {
   "codemirror_mode": {
    "name": "ipython",
    "version": 3
   },
   "file_extension": ".py",
   "mimetype": "text/x-python",
   "name": "python",
   "nbconvert_exporter": "python",
   "pygments_lexer": "ipython3",
   "version": "3.12.7"
  }
 },
 "nbformat": 4,
 "nbformat_minor": 5
}
